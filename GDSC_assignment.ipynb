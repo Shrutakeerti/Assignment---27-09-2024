{
  "nbformat": 4,
  "nbformat_minor": 0,
  "metadata": {
    "colab": {
      "provenance": []
    },
    "kernelspec": {
      "name": "python3",
      "display_name": "Python 3"
    },
    "language_info": {
      "name": "python"
    }
  },
  "cells": [
    {
      "cell_type": "code",
      "source": [
        "# Import required libraries\n",
        "import numpy as np\n",
        "import pandas as pd\n",
        "from sklearn.model_selection import train_test_split\n",
        "from sklearn.preprocessing import StandardScaler, LabelEncoder\n",
        "from sklearn.metrics import accuracy_score, f1_score, precision_score, recall_score\n",
        "import torch\n",
        "import torch.nn as nn\n",
        "import torch.optim as optim\n",
        "import matplotlib.pyplot as plt\n",
        "import flask\n",
        "from flask import request, jsonify, send_file\n",
        "\n",
        "# Load dataset (replace this with your dataset)\n",
        "data = pd.read_csv('/content/wisc_bc_data.csv')  # Replace 'your_dataset.csv' with your dataset file path\n",
        "\n",
        "# Ensure there are no NaN values\n",
        "data = data.dropna()\n",
        "\n",
        "# Encode the target column if it's categorical\n",
        "label_encoder = LabelEncoder()\n",
        "data['diagnosis'] = label_encoder.fit_transform(data['diagnosis'])  # Replace 'diagnosis' with actual target column name\n",
        "\n",
        "# Split into features and labels\n",
        "X = data.drop('diagnosis', axis=1).values  # Replace 'diagnosis' with actual target column name\n",
        "y = data['diagnosis'].values\n",
        "\n",
        "# Train-test split\n",
        "X_train, X_test, y_train, y_test = train_test_split(X, y, test_size=0.2, random_state=42)\n",
        "\n",
        "# Standardize the features\n",
        "scaler = StandardScaler()\n",
        "X_train = scaler.fit_transform(X_train)\n",
        "X_test = scaler.transform(X_test)\n",
        "\n",
        "# Convert data to PyTorch tensors\n",
        "X_train_tensor = torch.FloatTensor(X_train)\n",
        "X_test_tensor = torch.FloatTensor(X_test)\n",
        "y_train_tensor = torch.LongTensor(y_train.astype(np.int64))  # Ensure target labels are integers\n",
        "y_test_tensor = torch.LongTensor(y_test.astype(np.int64))\n",
        "\n",
        "# Define the Ada-Act activation function\n",
        "class AdaAct(nn.Module):\n",
        "    def __init__(self):\n",
        "        super(AdaAct, self).__init__()\n",
        "        # Initialize k0 and k1 as learnable parameters\n",
        "        self.k0 = nn.Parameter(torch.randn(1))\n",
        "        self.k1 = nn.Parameter(torch.randn(1))\n",
        "\n",
        "    def forward(self, x):\n",
        "        # Define the Ada-Act function: g(x) = k0 + k1 * x\n",
        "        return self.k0 + self.k1 * x\n",
        "\n",
        "# Define the Neural Network model\n",
        "class NeuralNet(nn.Module):\n",
        "    def __init__(self, input_size, hidden_size, output_size):\n",
        "        super(NeuralNet, self).__init__()\n",
        "        # Define layers\n",
        "        self.fc1 = nn.Linear(input_size, hidden_size)\n",
        "        self.ada_act1 = AdaAct()  # Apply Ada-Act activation after the first layer\n",
        "        self.fc2 = nn.Linear(hidden_size, output_size)\n",
        "\n",
        "    def forward(self, x):\n",
        "        # Forward propagation\n",
        "        out = self.fc1(x)\n",
        "        out = self.ada_act1(out)  # Apply Ada-Act activation function\n",
        "        out = self.fc2(out)\n",
        "        return out\n",
        "\n",
        "# Define model parameters\n",
        "input_size = X_train.shape[1]  # Number of features in the dataset\n",
        "hidden_size = 30  # Hidden layer size\n",
        "output_size = len(np.unique(y))  # Number of output classes (e.g., 2 for binary classification)\n",
        "learning_rate = 0.001\n",
        "num_epochs = 100\n",
        "\n",
        "# Initialize the model, loss function, and optimizer\n",
        "model = NeuralNet(input_size, hidden_size, output_size)\n",
        "criterion = nn.CrossEntropyLoss()\n",
        "optimizer = optim.Adam(model.parameters(), lr=learning_rate)\n",
        "\n",
        "# Training the model\n",
        "train_losses = []\n",
        "test_losses = []\n",
        "\n",
        "for epoch in range(num_epochs):\n",
        "    # Forward pass\n",
        "    outputs = model(X_train_tensor)\n",
        "    loss = criterion(outputs, y_train_tensor)\n",
        "\n",
        "    # Backward pass and optimization\n",
        "    optimizer.zero_grad()\n",
        "    loss.backward()\n",
        "    optimizer.step()\n",
        "\n",
        "    # Track the loss\n",
        "    train_losses.append(loss.item())\n",
        "\n",
        "    # Test the model on the test set\n",
        "    with torch.no_grad():\n",
        "        test_outputs = model(X_test_tensor)\n",
        "        test_loss = criterion(test_outputs, y_test_tensor)\n",
        "        test_losses.append(test_loss.item())\n",
        "\n",
        "    if (epoch+1) % 10 == 0:\n",
        "        print(f'Epoch [{epoch+1}/{num_epochs}], Train Loss: {loss.item():.4f}, Test Loss: {test_loss.item():.4f}')\n",
        "\n",
        "# Save the model after training\n",
        "torch.save(model.state_dict(), 'model.pth')\n",
        "\n",
        "# Plot the training and test losses over epochs\n",
        "plt.plot(train_losses, label='Train Loss')\n",
        "plt.plot(test_losses, label='Test Loss')\n",
        "plt.xlabel('Epochs')\n",
        "plt.ylabel('Loss')\n",
        "plt.legend()\n",
        "plt.show()\n",
        "\n",
        "# Evaluate the model\n",
        "with torch.no_grad():\n",
        "    predictions = model(X_test_tensor)\n",
        "    _, predicted = torch.max(predictions.data, 1)\n",
        "\n",
        "    accuracy = accuracy_score(y_test_tensor, predicted)\n",
        "    f1 = f1_score(y_test_tensor, predicted, average='weighted')\n",
        "    precision = precision_score(y_test_tensor, predicted, average='weighted')\n",
        "    recall = recall_score(y_test_tensor, predicted, average='weighted')\n",
        "\n",
        "    print(f'Accuracy: {accuracy:.4f}')\n",
        "    print(f'F1 Score: {f1:.4f}')\n",
        "    print(f'Precision: {precision:.4f}')\n",
        "    print(f'Recall: {recall:.4f}')\n",
        "\n",
        "# Flask API Setup\n",
        "app = flask.Flask(__name__)\n",
        "\n",
        "# Define the endpoint for making predictions\n",
        "@app.route('/predict', methods=['POST'])\n",
        "def predict():\n",
        "    input_data = request.json['input']  # Expecting JSON input\n",
        "    input_tensor = torch.FloatTensor([input_data])  # Convert to tensor\n",
        "    with torch.no_grad():\n",
        "        output = model(input_tensor)\n",
        "        _, predicted_class = torch.max(output.data, 1)\n",
        "    return jsonify({'predicted_class': int(predicted_class)})\n",
        "\n",
        "# Endpoint to download the model\n",
        "@app.route('/download_model', methods=['GET'])\n",
        "def download_model():\n",
        "    path = 'model.pth'\n",
        "    return send_file(path, as_attachment=True)\n",
        "\n",
        "if __name__ == '__main__':\n",
        "    app.run(debug=True)\n"
      ],
      "metadata": {
        "colab": {
          "base_uri": "https://localhost:8080/",
          "height": 796
        },
        "id": "IRHhVNhGoJh8",
        "outputId": "0bd72448-fb8d-4023-e81c-dfe8e23910f3"
      },
      "execution_count": 3,
      "outputs": [
        {
          "output_type": "stream",
          "name": "stdout",
          "text": [
            "Epoch [10/100], Train Loss: 0.6642, Test Loss: 0.6584\n",
            "Epoch [20/100], Train Loss: 0.5954, Test Loss: 0.5854\n",
            "Epoch [30/100], Train Loss: 0.5191, Test Loss: 0.5029\n",
            "Epoch [40/100], Train Loss: 0.4377, Test Loss: 0.4151\n",
            "Epoch [50/100], Train Loss: 0.3597, Test Loss: 0.3319\n",
            "Epoch [60/100], Train Loss: 0.2932, Test Loss: 0.2615\n",
            "Epoch [70/100], Train Loss: 0.2414, Test Loss: 0.2064\n",
            "Epoch [80/100], Train Loss: 0.2028, Test Loss: 0.1647\n",
            "Epoch [90/100], Train Loss: 0.1743, Test Loss: 0.1336\n",
            "Epoch [100/100], Train Loss: 0.1534, Test Loss: 0.1106\n"
          ]
        },
        {
          "output_type": "display_data",
          "data": {
            "text/plain": [
              "<Figure size 640x480 with 1 Axes>"
            ],
            "image/png": "[encoded data removed]"
          },
          "metadata": {}
        },
        {
          "output_type": "stream",
          "name": "stdout",
          "text": [
            "Accuracy: 0.9825\n",
            "F1 Score: 0.9825\n",
            "Precision: 0.9833\n",
            "Recall: 0.9825\n",
            " * Serving Flask app '__main__'\n",
            " * Debug mode: on\n"
          ]
        },
        {
          "output_type": "stream",
          "name": "stderr",
          "text": [
            "INFO:werkzeug:\u001b[31m\u001b[1mWARNING: This is a development server. Do not use it in a production deployment. Use a production WSGI server instead.\u001b[0m\n",
            " * Running on http://127.0.0.1:5000\n",
            "INFO:werkzeug:\u001b[33mPress CTRL+C to quit\u001b[0m\n",
            "INFO:werkzeug: * Restarting with stat\n"
          ]
        }
      ]
    },
    {
      "cell_type": "code",
      "source": [
        "# Save the trained model in Colab\n",
        "torch.save(model.state_dict(), 'model.pth')\n",
        "\n",
        "# Download the model file locally\n",
        "from google.colab import files\n",
        "files.download('model.pth')\n"
      ],
      "metadata": {
        "colab": {
          "base_uri": "https://localhost:8080/",
          "height": 17
        },
        "id": "WbZ_Jxd-e8Tc",
        "outputId": "967b399f-4727-49d6-fcbd-2debb196c815"
      },
      "execution_count": 4,
      "outputs": [
        {
          "output_type": "display_data",
          "data": {
            "text/plain": [
              "<IPython.core.display.Javascript object>"
            ],
            "application/javascript": [
              "\n",
              "    async function download(id, filename, size) {\n",
              "      if (!google.colab.kernel.accessAllowed) {\n",
              "        return;\n",
              "      }\n",
              "      const div = document.createElement('div');\n",
              "      const label = document.createElement('label');\n",
              "      label.textContent = `Downloading \"${filename}\": `;\n",
              "      div.appendChild(label);\n",
              "      const progress = document.createElement('progress');\n",
              "      progress.max = size;\n",
              "      div.appendChild(progress);\n",
              "      document.body.appendChild(div);\n",
              "\n",
              "      const buffers = [];\n",
              "      let downloaded = 0;\n",
              "\n",
              "      const channel = await google.colab.kernel.comms.open(id);\n",
              "      // Send a message to notify the kernel that we're ready.\n",
              "      channel.send({})\n",
              "\n",
              "      for await (const message of channel.messages) {\n",
              "        // Send a message to notify the kernel that we're ready.\n",
              "        channel.send({})\n",
              "        if (message.buffers) {\n",
              "          for (const buffer of message.buffers) {\n",
              "            buffers.push(buffer);\n",
              "            downloaded += buffer.byteLength;\n",
              "            progress.value = downloaded;\n",
              "          }\n",
              "        }\n",
              "      }\n",
              "      const blob = new Blob(buffers, {type: 'application/binary'});\n",
              "      const a = document.createElement('a');\n",
              "      a.href = window.URL.createObjectURL(blob);\n",
              "      a.download = filename;\n",
              "      div.appendChild(a);\n",
              "      a.click();\n",
              "      div.remove();\n",
              "    }\n",
              "  "
            ]
          },
          "metadata": {}
        },
        {
          "output_type": "display_data",
          "data": {
            "text/plain": [
              "<IPython.core.display.Javascript object>"
            ],
            "application/javascript": [
              "download(\"download_574f3ba8-0fb4-4f48-a1a2-0d9d8531beb9\", \"model.pth\", 6516)"
            ]
          },
          "metadata": {}
        }
      ]
    }
  ]
}